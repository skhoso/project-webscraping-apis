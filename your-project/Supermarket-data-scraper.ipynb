{
 "cells": [
  {
   "cell_type": "markdown",
   "id": "b609910e",
   "metadata": {},
   "source": [
    "# Supermarket Data Scraper\n",
    "\n",
    "The purpose of this is to collect data around ingredients that are needed for the recipes that are being suggested, so the end user will have an idea around the cost of each ingredient and where that item could be ordered.\n",
    "\n",
    "We are going to use https://tesco.com/groceries as the main data source for this exercise. \n",
    "\n",
    "To ensure we don't lose data and it can be fetched in batches, we will split this into two steps: First we fetch list of products we would like to scrape and store them in a CSV file. Then we fetch top X from that list that is not scraped, and do the data scraping on it and update the CSV file."
   ]
  },
  {
   "cell_type": "markdown",
   "id": "476c0162",
   "metadata": {},
   "source": [
    "## Prepare Data\n",
    "\n",
    "For this, we first look at the sitemap of the website to get list of products that we would like to scrape. Then we generate a CSV file with following columns:\n",
    "* product_id\n",
    "* product_name\n",
    "* product_price\n",
    "* product_price_details\n",
    "* product_url"
   ]
  },
  {
   "cell_type": "code",
   "execution_count": 1,
   "id": "079039a2",
   "metadata": {},
   "outputs": [],
   "source": [
    "# Imports\n",
    "import requests\n",
    "from bs4 import BeautifulSoup\n",
    "import pandas as pd"
   ]
  },
  {
   "cell_type": "code",
   "execution_count": 2,
   "id": "00a5c399",
   "metadata": {},
   "outputs": [],
   "source": [
    "sitemap_url = 'https://www.tesco.com/groceries/sitemap/UK.en.pdp.sitemap.xml'\n",
    "headers = {\n",
    "        'User-Agent':'Mozilla/5.0 (Macintosh; Intel Mac OS X 10_15_7) AppleWebKit/537.36 (KHTML, like Gecko) Chrome/119.0.0.0 Safari/537.36',\n",
    "        'Accept': 'text/html,application/xhtml+xml,application/xml;q=0.9,image/avif,image/webp,image/apng,*/*;q=0.8,application/signed-exchange;v=b3;q=0.7',\n",
    "        'Accept-Language': 'en-GB,en-US;q=0.9,en;q=0.8'\n",
    "    }\n",
    "html = requests.get(sitemap_url, headers=headers).content\n",
    "soup = BeautifulSoup(html, \"xml\")"
   ]
  },
  {
   "cell_type": "code",
   "execution_count": 3,
   "id": "556ba407",
   "metadata": {},
   "outputs": [
    {
     "data": {
      "text/plain": [
       "10500"
      ]
     },
     "execution_count": 3,
     "metadata": {},
     "output_type": "execute_result"
    }
   ],
   "source": [
    "# fetch all the locations and filter it to have only product pages\n",
    "all_locs = soup.find_all('loc')\n",
    "len(all_locs)"
   ]
  },
  {
   "cell_type": "code",
   "execution_count": 4,
   "id": "f905b035",
   "metadata": {},
   "outputs": [
    {
     "name": "stdout",
     "output_type": "stream",
     "text": [
      "We found  10500  Products\n"
     ]
    },
    {
     "data": {
      "text/plain": [
       "{'product_id': 0,\n",
       " 'product_name': 'N/A',\n",
       " 'product_price': 'N/A',\n",
       " 'product_price_details': 'N/A',\n",
       " 'product_url': 'https://www.tesco.com/groceries/en-GB/products/313732035'}"
      ]
     },
     "execution_count": 4,
     "metadata": {},
     "output_type": "execute_result"
    }
   ],
   "source": [
    "products = [ { \n",
    "    'product_id': 0, \n",
    "    'product_name': 'N/A', \n",
    "    'product_price': 'N/A', \n",
    "    'product_price_details': 'N/A', \n",
    "    'product_url': i.get_text()\n",
    "} for i in all_locs]\n",
    "print('We found ', len(products), ' Products')\n",
    "products[0]"
   ]
  },
  {
   "cell_type": "code",
   "execution_count": 5,
   "id": "d3b8afcc",
   "metadata": {},
   "outputs": [
    {
     "data": {
      "text/html": [
       "<div>\n",
       "<style scoped>\n",
       "    .dataframe tbody tr th:only-of-type {\n",
       "        vertical-align: middle;\n",
       "    }\n",
       "\n",
       "    .dataframe tbody tr th {\n",
       "        vertical-align: top;\n",
       "    }\n",
       "\n",
       "    .dataframe thead th {\n",
       "        text-align: right;\n",
       "    }\n",
       "</style>\n",
       "<table border=\"1\" class=\"dataframe\">\n",
       "  <thead>\n",
       "    <tr style=\"text-align: right;\">\n",
       "      <th></th>\n",
       "      <th>product_id</th>\n",
       "      <th>product_name</th>\n",
       "      <th>product_price</th>\n",
       "      <th>product_price_details</th>\n",
       "      <th>product_url</th>\n",
       "    </tr>\n",
       "  </thead>\n",
       "  <tbody>\n",
       "    <tr>\n",
       "      <th>0</th>\n",
       "      <td>0</td>\n",
       "      <td>N/A</td>\n",
       "      <td>N/A</td>\n",
       "      <td>N/A</td>\n",
       "      <td>https://www.tesco.com/groceries/en-GB/products...</td>\n",
       "    </tr>\n",
       "    <tr>\n",
       "      <th>1</th>\n",
       "      <td>0</td>\n",
       "      <td>N/A</td>\n",
       "      <td>N/A</td>\n",
       "      <td>N/A</td>\n",
       "      <td>https://www.tesco.com/groceries/en-GB/products...</td>\n",
       "    </tr>\n",
       "    <tr>\n",
       "      <th>2</th>\n",
       "      <td>0</td>\n",
       "      <td>N/A</td>\n",
       "      <td>N/A</td>\n",
       "      <td>N/A</td>\n",
       "      <td>https://www.tesco.com/groceries/en-GB/products...</td>\n",
       "    </tr>\n",
       "    <tr>\n",
       "      <th>3</th>\n",
       "      <td>0</td>\n",
       "      <td>N/A</td>\n",
       "      <td>N/A</td>\n",
       "      <td>N/A</td>\n",
       "      <td>https://www.tesco.com/groceries/en-GB/products...</td>\n",
       "    </tr>\n",
       "    <tr>\n",
       "      <th>4</th>\n",
       "      <td>0</td>\n",
       "      <td>N/A</td>\n",
       "      <td>N/A</td>\n",
       "      <td>N/A</td>\n",
       "      <td>https://www.tesco.com/groceries/en-GB/products...</td>\n",
       "    </tr>\n",
       "  </tbody>\n",
       "</table>\n",
       "</div>"
      ],
      "text/plain": [
       "   product_id product_name product_price product_price_details  \\\n",
       "0           0          N/A           N/A                   N/A   \n",
       "1           0          N/A           N/A                   N/A   \n",
       "2           0          N/A           N/A                   N/A   \n",
       "3           0          N/A           N/A                   N/A   \n",
       "4           0          N/A           N/A                   N/A   \n",
       "\n",
       "                                         product_url  \n",
       "0  https://www.tesco.com/groceries/en-GB/products...  \n",
       "1  https://www.tesco.com/groceries/en-GB/products...  \n",
       "2  https://www.tesco.com/groceries/en-GB/products...  \n",
       "3  https://www.tesco.com/groceries/en-GB/products...  \n",
       "4  https://www.tesco.com/groceries/en-GB/products...  "
      ]
     },
     "execution_count": 5,
     "metadata": {},
     "output_type": "execute_result"
    }
   ],
   "source": [
    "# Convert to dataframe\n",
    "prd_df = pd.DataFrame(products)\n",
    "prd_df.head()"
   ]
  },
  {
   "cell_type": "code",
   "execution_count": 6,
   "id": "a27e1f18",
   "metadata": {},
   "outputs": [],
   "source": [
    "prd_df.to_csv('supermarket-data.csv')"
   ]
  },
  {
   "cell_type": "markdown",
   "id": "19ad302f",
   "metadata": {},
   "source": [
    "## Scrape the data\n",
    "\n",
    "We have list of products in the CSV file, so here we can check the records that are not updated and fetch their data from the website"
   ]
  },
  {
   "cell_type": "code",
   "execution_count": 7,
   "id": "0193413d",
   "metadata": {},
   "outputs": [],
   "source": [
    "import pandas as pd\n",
    "import time\n",
    "from getpass import getpass\n",
    "from selenium import webdriver\n",
    "from selenium.webdriver.common.keys import Keys\n",
    "from selenium.webdriver.chrome.service import Service\n",
    "from selenium.webdriver.common.by import By\n",
    "from webdriver_manager.chrome import ChromeDriverManager\n",
    "\n",
    "import pathlib\n",
    "import os\n",
    "from os.path import join\n",
    "\n",
    "import warnings\n",
    "warnings.filterwarnings('ignore')"
   ]
  },
  {
   "cell_type": "code",
   "execution_count": 8,
   "id": "5d6730f9",
   "metadata": {},
   "outputs": [],
   "source": [
    "# Setup driver\n",
    "driver = webdriver.Chrome(service=Service(ChromeDriverManager().install()))"
   ]
  },
  {
   "cell_type": "code",
   "execution_count": 9,
   "id": "a83ce1c2",
   "metadata": {},
   "outputs": [],
   "source": [
    "def scrape_product(url):\n",
    "    # Sleep for a short time, to avoid killing the server\n",
    "    driver = webdriver.Chrome()\n",
    "    driver.get(url)\n",
    "    time.sleep(3)\n",
    "    product_name = driver.find_element(By.XPATH, '//h1[@data-auto=\"pdp-product-title\"]').text\n",
    "    prices = [i.text.strip() for i in driver.find_elements(By.XPATH, '//*[@data-auto=\"pdp-buy-box\"]//p')]\n",
    "    driver.quit()\n",
    "    product_price = 'N/A'\n",
    "    product_price_details = 'N/A'\n",
    "    if len(prices) > 0:\n",
    "        product_price = prices[0]\n",
    "    if len(prices) > 1:\n",
    "        product_price_details = prices[-1]\n",
    "    return {\n",
    "        'product_id' : url.split('/')[-1],\n",
    "        'product_name': product_name,\n",
    "        'product_price': product_price,\n",
    "        'product_price_details': product_price_details,\n",
    "        'product_url': url\n",
    "    }"
   ]
  },
  {
   "cell_type": "code",
   "execution_count": 52,
   "id": "cbc7485c",
   "metadata": {},
   "outputs": [
    {
     "data": {
      "text/html": [
       "<div>\n",
       "<style scoped>\n",
       "    .dataframe tbody tr th:only-of-type {\n",
       "        vertical-align: middle;\n",
       "    }\n",
       "\n",
       "    .dataframe tbody tr th {\n",
       "        vertical-align: top;\n",
       "    }\n",
       "\n",
       "    .dataframe thead th {\n",
       "        text-align: right;\n",
       "    }\n",
       "</style>\n",
       "<table border=\"1\" class=\"dataframe\">\n",
       "  <thead>\n",
       "    <tr style=\"text-align: right;\">\n",
       "      <th></th>\n",
       "      <th>product_id</th>\n",
       "      <th>product_name</th>\n",
       "      <th>product_price</th>\n",
       "      <th>product_price_details</th>\n",
       "      <th>product_url</th>\n",
       "    </tr>\n",
       "  </thead>\n",
       "  <tbody>\n",
       "    <tr>\n",
       "      <th>0</th>\n",
       "      <td>313732035</td>\n",
       "      <td>Foster's Lager Beer Can 18x440ml</td>\n",
       "      <td>£15.99</td>\n",
       "      <td>£2.02/litre</td>\n",
       "      <td>https://www.tesco.com/groceries/en-GB/products...</td>\n",
       "    </tr>\n",
       "    <tr>\n",
       "      <th>1</th>\n",
       "      <td>314598779</td>\n",
       "      <td>Celebrations Chocolate Tub 600G</td>\n",
       "      <td>£5.00</td>\n",
       "      <td>£0.83/100g</td>\n",
       "      <td>https://www.tesco.com/groceries/en-GB/products...</td>\n",
       "    </tr>\n",
       "    <tr>\n",
       "      <th>2</th>\n",
       "      <td>267158243</td>\n",
       "      <td>Tesco Smoked Boneless Gammon Joint</td>\n",
       "      <td>NaN</td>\n",
       "      <td>NaN</td>\n",
       "      <td>https://www.tesco.com/groceries/en-GB/products...</td>\n",
       "    </tr>\n",
       "    <tr>\n",
       "      <th>3</th>\n",
       "      <td>309196093</td>\n",
       "      <td>Oral-B Pro 3 Black Cross Action Electric Tooth...</td>\n",
       "      <td>£100.00</td>\n",
       "      <td>£100.00/each</td>\n",
       "      <td>https://www.tesco.com/groceries/en-GB/products...</td>\n",
       "    </tr>\n",
       "    <tr>\n",
       "      <th>4</th>\n",
       "      <td>260951547</td>\n",
       "      <td>Tesco Lamb Whole Shoulder Joint</td>\n",
       "      <td>£20.40</td>\n",
       "      <td>£10.20/kg</td>\n",
       "      <td>https://www.tesco.com/groceries/en-GB/products...</td>\n",
       "    </tr>\n",
       "  </tbody>\n",
       "</table>\n",
       "</div>"
      ],
      "text/plain": [
       "   product_id                                       product_name  \\\n",
       "0   313732035                   Foster's Lager Beer Can 18x440ml   \n",
       "1   314598779                    Celebrations Chocolate Tub 600G   \n",
       "2   267158243                 Tesco Smoked Boneless Gammon Joint   \n",
       "3   309196093  Oral-B Pro 3 Black Cross Action Electric Tooth...   \n",
       "4   260951547                    Tesco Lamb Whole Shoulder Joint   \n",
       "\n",
       "  product_price product_price_details  \\\n",
       "0        £15.99           £2.02/litre   \n",
       "1         £5.00            £0.83/100g   \n",
       "2           NaN                   NaN   \n",
       "3       £100.00          £100.00/each   \n",
       "4        £20.40             £10.20/kg   \n",
       "\n",
       "                                         product_url  \n",
       "0  https://www.tesco.com/groceries/en-GB/products...  \n",
       "1  https://www.tesco.com/groceries/en-GB/products...  \n",
       "2  https://www.tesco.com/groceries/en-GB/products...  \n",
       "3  https://www.tesco.com/groceries/en-GB/products...  \n",
       "4  https://www.tesco.com/groceries/en-GB/products...  "
      ]
     },
     "execution_count": 52,
     "metadata": {},
     "output_type": "execute_result"
    }
   ],
   "source": [
    "product_list = pd.read_csv('supermarket-data.csv')\n",
    "product_list = product_list.drop(columns=[i for i in product_list.columns if i.find('Unnamed') > -1])\n",
    "product_list.head()"
   ]
  },
  {
   "cell_type": "code",
   "execution_count": 48,
   "id": "fbc91403",
   "metadata": {},
   "outputs": [],
   "source": [
    "BATCH_SIZE = 10\n",
    "def update_row(r):\n",
    "    p = scrape_product(r['product_url'])\n",
    "    return [int(p['product_id']),p['product_name'],p['product_price'],p['product_price_details'],p['product_url']]"
   ]
  },
  {
   "cell_type": "code",
   "execution_count": 49,
   "id": "469d22c9",
   "metadata": {},
   "outputs": [
    {
     "data": {
      "text/plain": [
       "(10, 5)"
      ]
     },
     "execution_count": 49,
     "metadata": {},
     "output_type": "execute_result"
    }
   ],
   "source": [
    "# pick items to be updated\n",
    "items_to_update = product_list[product_list['product_id'] <= 0].head(BATCH_SIZE)\n",
    "items_to_update.shape"
   ]
  },
  {
   "cell_type": "code",
   "execution_count": 50,
   "id": "6a0c73c2",
   "metadata": {},
   "outputs": [
    {
     "data": {
      "text/html": [
       "<div>\n",
       "<style scoped>\n",
       "    .dataframe tbody tr th:only-of-type {\n",
       "        vertical-align: middle;\n",
       "    }\n",
       "\n",
       "    .dataframe tbody tr th {\n",
       "        vertical-align: top;\n",
       "    }\n",
       "\n",
       "    .dataframe thead th {\n",
       "        text-align: right;\n",
       "    }\n",
       "</style>\n",
       "<table border=\"1\" class=\"dataframe\">\n",
       "  <thead>\n",
       "    <tr style=\"text-align: right;\">\n",
       "      <th></th>\n",
       "      <th>product_id</th>\n",
       "      <th>product_name</th>\n",
       "      <th>product_price</th>\n",
       "      <th>product_price_details</th>\n",
       "      <th>product_url</th>\n",
       "    </tr>\n",
       "  </thead>\n",
       "  <tbody>\n",
       "    <tr>\n",
       "      <th>1</th>\n",
       "      <td>314598779</td>\n",
       "      <td>Celebrations Chocolate Tub 600G</td>\n",
       "      <td>£5.00</td>\n",
       "      <td>£0.83/100g</td>\n",
       "      <td>https://www.tesco.com/groceries/en-GB/products...</td>\n",
       "    </tr>\n",
       "    <tr>\n",
       "      <th>2</th>\n",
       "      <td>267158243</td>\n",
       "      <td>Tesco Smoked Boneless Gammon Joint</td>\n",
       "      <td>N/A</td>\n",
       "      <td>N/A</td>\n",
       "      <td>https://www.tesco.com/groceries/en-GB/products...</td>\n",
       "    </tr>\n",
       "    <tr>\n",
       "      <th>3</th>\n",
       "      <td>309196093</td>\n",
       "      <td>Oral-B Pro 3 Black Cross Action Electric Tooth...</td>\n",
       "      <td>£100.00</td>\n",
       "      <td>£100.00/each</td>\n",
       "      <td>https://www.tesco.com/groceries/en-GB/products...</td>\n",
       "    </tr>\n",
       "    <tr>\n",
       "      <th>4</th>\n",
       "      <td>260951547</td>\n",
       "      <td>Tesco Lamb Whole Shoulder Joint</td>\n",
       "      <td>£20.40</td>\n",
       "      <td>£10.20/kg</td>\n",
       "      <td>https://www.tesco.com/groceries/en-GB/products...</td>\n",
       "    </tr>\n",
       "    <tr>\n",
       "      <th>5</th>\n",
       "      <td>314258952</td>\n",
       "      <td>TESCO 50PK SILVER DECORATION</td>\n",
       "      <td>£6.00</td>\n",
       "      <td>£0.12/each</td>\n",
       "      <td>https://www.tesco.com/groceries/en-GB/products...</td>\n",
       "    </tr>\n",
       "  </tbody>\n",
       "</table>\n",
       "</div>"
      ],
      "text/plain": [
       "   product_id                                       product_name  \\\n",
       "1   314598779                    Celebrations Chocolate Tub 600G   \n",
       "2   267158243                 Tesco Smoked Boneless Gammon Joint   \n",
       "3   309196093  Oral-B Pro 3 Black Cross Action Electric Tooth...   \n",
       "4   260951547                    Tesco Lamb Whole Shoulder Joint   \n",
       "5   314258952                       TESCO 50PK SILVER DECORATION   \n",
       "\n",
       "  product_price product_price_details  \\\n",
       "1         £5.00            £0.83/100g   \n",
       "2           N/A                   N/A   \n",
       "3       £100.00          £100.00/each   \n",
       "4        £20.40             £10.20/kg   \n",
       "5         £6.00            £0.12/each   \n",
       "\n",
       "                                         product_url  \n",
       "1  https://www.tesco.com/groceries/en-GB/products...  \n",
       "2  https://www.tesco.com/groceries/en-GB/products...  \n",
       "3  https://www.tesco.com/groceries/en-GB/products...  \n",
       "4  https://www.tesco.com/groceries/en-GB/products...  \n",
       "5  https://www.tesco.com/groceries/en-GB/products...  "
      ]
     },
     "execution_count": 50,
     "metadata": {},
     "output_type": "execute_result"
    }
   ],
   "source": [
    "items_to_update = items_to_update.apply(update_row, axis=1, result_type='expand')\n",
    "items_to_update.columns = [i for i in product_list.columns]\n",
    "items_to_update.head()"
   ]
  },
  {
   "cell_type": "code",
   "execution_count": 51,
   "id": "2c4bd672",
   "metadata": {},
   "outputs": [],
   "source": [
    "# save result\n",
    "def copy_changes(r):\n",
    "    updated_df = items_to_update[items_to_update['product_url'] == r['product_url']]\n",
    "    result_row = r\n",
    "    if updated_df.shape[0] == 1:\n",
    "        result_row = updated_df.iloc[0]\n",
    "    return [result_row['product_id'],result_row['product_name'],result_row['product_price'],result_row['product_price_details'],result_row['product_url']]\n",
    "\n",
    "product_list = product_list.apply(copy_changes, axis=1, result_type='expand')\n",
    "product_list.columns = [i for i in items_to_update.columns]\n",
    "product_list.head()\n",
    "product_list.to_csv('supermarket-data.csv')"
   ]
  },
  {
   "cell_type": "code",
   "execution_count": null,
   "id": "0ed6a45a",
   "metadata": {},
   "outputs": [],
   "source": []
  }
 ],
 "metadata": {
  "kernelspec": {
   "display_name": "Python 3 (ipykernel)",
   "language": "python",
   "name": "python3"
  },
  "language_info": {
   "codemirror_mode": {
    "name": "ipython",
    "version": 3
   },
   "file_extension": ".py",
   "mimetype": "text/x-python",
   "name": "python",
   "nbconvert_exporter": "python",
   "pygments_lexer": "ipython3",
   "version": "3.10.9"
  }
 },
 "nbformat": 4,
 "nbformat_minor": 5
}
